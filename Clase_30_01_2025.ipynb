{
  "nbformat": 4,
  "nbformat_minor": 0,
  "metadata": {
    "colab": {
      "provenance": []
    },
    "kernelspec": {
      "name": "python3",
      "display_name": "Python 3"
    },
    "language_info": {
      "name": "python"
    }
  },
  "cells": [
    {
      "cell_type": "markdown",
      "source": [
        "# Lista e ingresos a listas\n",
        "range(a,b)\n",
        "- $a\\geq 0$\n",
        "- $b\\geq 0$\n",
        "- $a\\le b$\n"
      ],
      "metadata": {
        "id": "8bXiD2WysEJ2"
      }
    },
    {
      "cell_type": "code",
      "source": [
        "range(10)\n",
        "type(range(10))"
      ],
      "metadata": {
        "colab": {
          "base_uri": "https://localhost:8080/"
        },
        "id": "aCm-cMRbyeGf",
        "outputId": "fa8836b1-5357-4237-c600-6aec8a09a428"
      },
      "execution_count": 1,
      "outputs": [
        {
          "output_type": "execute_result",
          "data": {
            "text/plain": [
              "range"
            ]
          },
          "metadata": {},
          "execution_count": 1
        }
      ]
    },
    {
      "cell_type": "markdown",
      "source": [
        "La función range es el generador de índices o etiquetas en python."
      ],
      "metadata": {
        "id": "2DkgPkUYyoYh"
      }
    },
    {
      "cell_type": "code",
      "source": [
        "for i in range(10):\n",
        "    print(i)"
      ],
      "metadata": {
        "colab": {
          "base_uri": "https://localhost:8080/"
        },
        "id": "FYDtCgP6y345",
        "outputId": "16c2add0-7935-4395-b5ec-d4e4b3880b7f"
      },
      "execution_count": 2,
      "outputs": [
        {
          "output_type": "stream",
          "name": "stdout",
          "text": [
            "0\n",
            "1\n",
            "2\n",
            "3\n",
            "4\n",
            "5\n",
            "6\n",
            "7\n",
            "8\n",
            "9\n"
          ]
        }
      ]
    },
    {
      "cell_type": "markdown",
      "source": [
        "#Lista = list(Pares)\n",
        "Transforma un conjunto en una lista"
      ],
      "metadata": {
        "id": "aKPuSA781379"
      }
    },
    {
      "cell_type": "code",
      "source": [
        "x = 7\n",
        "str (x)\n",
        "float (x)"
      ],
      "metadata": {
        "colab": {
          "base_uri": "https://localhost:8080/"
        },
        "id": "JZnljrTC2BY3",
        "outputId": "dc47493d-04ee-4b0d-c037-d1e953bec8b5"
      },
      "execution_count": 3,
      "outputs": [
        {
          "output_type": "execute_result",
          "data": {
            "text/plain": [
              "7.0"
            ]
          },
          "metadata": {},
          "execution_count": 3
        }
      ]
    },
    {
      "cell_type": "code",
      "source": [
        "y = \"7\"\n",
        "int(y)"
      ],
      "metadata": {
        "colab": {
          "base_uri": "https://localhost:8080/"
        },
        "id": "jS3i6Elt2Hm8",
        "outputId": "57df4e6a-3079-4de4-d7af-7a1c4e7441bf"
      },
      "execution_count": 4,
      "outputs": [
        {
          "output_type": "execute_result",
          "data": {
            "text/plain": [
              "7"
            ]
          },
          "metadata": {},
          "execution_count": 4
        }
      ]
    },
    {
      "cell_type": "code",
      "source": [
        "#No se puede transformar caracteres a int o float.\n",
        "hola = \"Hola Mundo\"\n",
        "int (hola)"
      ],
      "metadata": {
        "id": "6oF_vQV8_egZ",
        "colab": {
          "base_uri": "https://localhost:8080/",
          "height": 176
        },
        "outputId": "7df35a7e-cd8b-4d94-a628-8c06403caeb6"
      },
      "execution_count": 8,
      "outputs": [
        {
          "output_type": "error",
          "ename": "ValueError",
          "evalue": "invalid literal for int() with base 10: 'Hola Mundo'",
          "traceback": [
            "\u001b[0;31m---------------------------------------------------------------------------\u001b[0m",
            "\u001b[0;31mValueError\u001b[0m                                Traceback (most recent call last)",
            "\u001b[0;32m<ipython-input-8-8305d3022656>\u001b[0m in \u001b[0;36m<cell line: 0>\u001b[0;34m()\u001b[0m\n\u001b[1;32m      1\u001b[0m \u001b[0;31m#No se puede transformar caracteres a int o float.\u001b[0m\u001b[0;34m\u001b[0m\u001b[0;34m\u001b[0m\u001b[0m\n\u001b[1;32m      2\u001b[0m \u001b[0mhola\u001b[0m \u001b[0;34m=\u001b[0m \u001b[0;34m\"Hola Mundo\"\u001b[0m\u001b[0;34m\u001b[0m\u001b[0;34m\u001b[0m\u001b[0m\n\u001b[0;32m----> 3\u001b[0;31m \u001b[0mint\u001b[0m \u001b[0;34m(\u001b[0m\u001b[0mhola\u001b[0m\u001b[0;34m)\u001b[0m\u001b[0;34m\u001b[0m\u001b[0;34m\u001b[0m\u001b[0m\n\u001b[0m",
            "\u001b[0;31mValueError\u001b[0m: invalid literal for int() with base 10: 'Hola Mundo'"
          ]
        }
      ]
    },
    {
      "cell_type": "code",
      "source": [
        "range(10)"
      ],
      "metadata": {
        "id": "a5ACq_CJ_o2M",
        "colab": {
          "base_uri": "https://localhost:8080/"
        },
        "outputId": "70fabc42-9758-4485-ad5a-ba55342c7173"
      },
      "execution_count": 11,
      "outputs": [
        {
          "output_type": "execute_result",
          "data": {
            "text/plain": [
              "range(0, 10)"
            ]
          },
          "metadata": {},
          "execution_count": 11
        }
      ]
    },
    {
      "cell_type": "markdown",
      "source": [
        "#Listas y Conjuntos\n",
        "Si $A$ un conjunto, sea $a\\in A$"
      ],
      "metadata": {
        "id": "houY3VWY_7iu"
      }
    },
    {
      "cell_type": "code",
      "source": [
        "Indices = [i for i in range(0,21)]\n",
        "Indices"
      ],
      "metadata": {
        "colab": {
          "base_uri": "https://localhost:8080/"
        },
        "id": "MNChb7qvAH5d",
        "outputId": "077b5dec-f8cc-46d4-dfcf-3e0ed5425118"
      },
      "execution_count": 12,
      "outputs": [
        {
          "output_type": "execute_result",
          "data": {
            "text/plain": [
              "[0, 1, 2, 3, 4, 5, 6, 7, 8, 9, 10, 11, 12, 13, 14, 15, 16, 17, 18, 19, 20]"
            ]
          },
          "metadata": {},
          "execution_count": 12
        }
      ]
    },
    {
      "cell_type": "code",
      "source": [
        "Indices = [i for i in range(0,21)]\n",
        "print(f\"Etiquetas: {Indices}\")\n",
        "\n",
        "Multiplos_3 = [i for i in range(0,21) if i%3==0]\n",
        "print(f\"Multiplos_3: {Multiplos_3}\")"
      ],
      "metadata": {
        "colab": {
          "base_uri": "https://localhost:8080/"
        },
        "id": "OrQqvcQnA8GQ",
        "outputId": "cc92f838-6e54-4e18-e40f-27ab3f04ef96"
      },
      "execution_count": 13,
      "outputs": [
        {
          "output_type": "stream",
          "name": "stdout",
          "text": [
            "Etiquetas: [0, 1, 2, 3, 4, 5, 6, 7, 8, 9, 10, 11, 12, 13, 14, 15, 16, 17, 18, 19, 20]\n",
            "Multiplos_3: [0, 3, 6, 9, 12, 15, 18]\n"
          ]
        }
      ]
    },
    {
      "cell_type": "code",
      "source": [
        "print(f\"Estas son las etiquetas en Python{Indices}\")\n",
        "print(\"Indices\")"
      ],
      "metadata": {
        "colab": {
          "base_uri": "https://localhost:8080/"
        },
        "id": "ZGZXUcfMECbi",
        "outputId": "0765b8ce-b6fb-41ff-c697-de18d9314113"
      },
      "execution_count": 14,
      "outputs": [
        {
          "output_type": "stream",
          "name": "stdout",
          "text": [
            "Estas son las etiquetas en Python[0, 1, 2, 3, 4, 5, 6, 7, 8, 9, 10, 11, 12, 13, 14, 15, 16, 17, 18, 19, 20]\n",
            "Indices\n"
          ]
        }
      ]
    },
    {
      "cell_type": "markdown",
      "source": [
        "#Ingresos"
      ],
      "metadata": {
        "id": "Nv_0kU1IExvW"
      }
    },
    {
      "cell_type": "code",
      "source": [
        "Ceci=[]\n",
        "\n",
        "Ceci.append(18)"
      ],
      "metadata": {
        "id": "MA9FzCwoEzlZ"
      },
      "execution_count": 32,
      "outputs": []
    },
    {
      "cell_type": "code",
      "source": [
        "Ceci.insert(1, \"Violín\")"
      ],
      "metadata": {
        "id": "dmvNLJwGGHOy"
      },
      "execution_count": 34,
      "outputs": []
    },
    {
      "cell_type": "code",
      "source": [
        "Ceci"
      ],
      "metadata": {
        "colab": {
          "base_uri": "https://localhost:8080/"
        },
        "id": "XZv-fwk4HC6W",
        "outputId": "74d2143b-674f-48e7-991e-668bcffabdb1"
      },
      "execution_count": 33,
      "outputs": [
        {
          "output_type": "execute_result",
          "data": {
            "text/plain": [
              "[18]"
            ]
          },
          "metadata": {},
          "execution_count": 33
        }
      ]
    },
    {
      "cell_type": "code",
      "source": [
        "Ceci.insert(2, 1.62)"
      ],
      "metadata": {
        "id": "PXjcfBXgHxJ9"
      },
      "execution_count": 35,
      "outputs": []
    },
    {
      "cell_type": "code",
      "source": [
        "Ceci"
      ],
      "metadata": {
        "colab": {
          "base_uri": "https://localhost:8080/"
        },
        "id": "CJLW8OWSH5nL",
        "outputId": "93cfc59f-fe48-42f4-b45e-7ec557c481e5"
      },
      "execution_count": 36,
      "outputs": [
        {
          "output_type": "execute_result",
          "data": {
            "text/plain": [
              "[18, 'Violín', 1.62]"
            ]
          },
          "metadata": {},
          "execution_count": 36
        }
      ]
    },
    {
      "cell_type": "code",
      "source": [
        "Ceci.insert(4, \"Perro\")"
      ],
      "metadata": {
        "id": "U226QJuKH8Rf"
      },
      "execution_count": 41,
      "outputs": []
    },
    {
      "cell_type": "code",
      "source": [
        "Ceci"
      ],
      "metadata": {
        "colab": {
          "base_uri": "https://localhost:8080/"
        },
        "id": "Es3QV4DIIghe",
        "outputId": "11cec9b3-f485-4f82-f325-b47203183f22"
      },
      "execution_count": 42,
      "outputs": [
        {
          "output_type": "execute_result",
          "data": {
            "text/plain": [
              "[18, 'Violín', 1.62, 'Perro', 'Perro']"
            ]
          },
          "metadata": {},
          "execution_count": 42
        }
      ]
    },
    {
      "cell_type": "code",
      "source": [
        "Ceci.remove(\"Perro\")\n",
        "Ceci"
      ],
      "metadata": {
        "colab": {
          "base_uri": "https://localhost:8080/"
        },
        "id": "IpWnVfShI-PW",
        "outputId": "8f5dbfb6-81e0-48fa-8c67-6b235bac1b67"
      },
      "execution_count": 43,
      "outputs": [
        {
          "output_type": "execute_result",
          "data": {
            "text/plain": [
              "[18, 'Violín', 1.62, 'Perro']"
            ]
          },
          "metadata": {},
          "execution_count": 43
        }
      ]
    },
    {
      "cell_type": "code",
      "source": [
        "Ceci[0::3]"
      ],
      "metadata": {
        "colab": {
          "base_uri": "https://localhost:8080/"
        },
        "id": "wTvworofMaoJ",
        "outputId": "f35f544b-aa15-47f9-df33-aaf1c86a4368"
      },
      "execution_count": 44,
      "outputs": [
        {
          "output_type": "execute_result",
          "data": {
            "text/plain": [
              "[18, 'Perro']"
            ]
          },
          "metadata": {},
          "execution_count": 44
        }
      ]
    },
    {
      "cell_type": "code",
      "source": [
        "Indices[0::3]"
      ],
      "metadata": {
        "colab": {
          "base_uri": "https://localhost:8080/"
        },
        "id": "inU4wYiFNiUX",
        "outputId": "596aba9b-9d51-4866-a181-67459c498478"
      },
      "execution_count": 45,
      "outputs": [
        {
          "output_type": "execute_result",
          "data": {
            "text/plain": [
              "[0, 3, 6, 9, 12, 15, 18]"
            ]
          },
          "metadata": {},
          "execution_count": 45
        }
      ]
    }
  ]
}