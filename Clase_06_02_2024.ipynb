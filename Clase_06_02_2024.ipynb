{
  "nbformat": 4,
  "nbformat_minor": 0,
  "metadata": {
    "colab": {
      "provenance": []
    },
    "kernelspec": {
      "name": "python3",
      "display_name": "Python 3"
    },
    "language_info": {
      "name": "python"
    }
  },
  "cells": [
    {
      "cell_type": "markdown",
      "source": [
        "# Arreglos y clases\n",
        "## Matrices\n",
        "Las matrices son un arreglo de tamaño mxn.\n",
        "\n",
        "\\begin{bmatrix}\n",
        "a_{11} & a_{12} & \\cdots & a_{1n} \\\\\n",
        "a_{21} & a_{22} & \\cdots & a_{2n} \\\\\n",
        "\\vdots & \\vdots & \\ddots & \\vdots \\\\\n",
        "a_{m1} & a_{m2} & \\cdots & a_{mn}\n",
        "\\end{bmatrix}"
      ],
      "metadata": {
        "id": "68hLkoUxvxwq"
      }
    },
    {
      "cell_type": "code",
      "source": [
        "# Creando una lista de listas\n",
        "A=[[1,2,3],[4,5,6],[7,8,9]]\n",
        "A"
      ],
      "metadata": {
        "colab": {
          "base_uri": "https://localhost:8080/"
        },
        "id": "Oy0JWd41xl8Y",
        "outputId": "f3af2c0c-2ab2-4e8d-92b4-bedb6a3e0734"
      },
      "execution_count": 1,
      "outputs": [
        {
          "output_type": "execute_result",
          "data": {
            "text/plain": [
              "[[1, 2, 3], [4, 5, 6], [7, 8, 9]]"
            ]
          },
          "metadata": {},
          "execution_count": 1
        }
      ]
    },
    {
      "cell_type": "code",
      "source": [
        "type(A)"
      ],
      "metadata": {
        "colab": {
          "base_uri": "https://localhost:8080/"
        },
        "id": "LIQQMMQ6x9e7",
        "outputId": "924dd627-7ceb-424d-d20e-04c5e99237fc"
      },
      "execution_count": 2,
      "outputs": [
        {
          "output_type": "execute_result",
          "data": {
            "text/plain": [
              "list"
            ]
          },
          "metadata": {},
          "execution_count": 2
        }
      ]
    },
    {
      "cell_type": "code",
      "source": [
        "# Creamos otra lista de listas\n",
        "B = [[21,34,40],[71,17,77],[73,81,28]]\n",
        "A+B # Se pegan las listas"
      ],
      "metadata": {
        "colab": {
          "base_uri": "https://localhost:8080/"
        },
        "id": "K21cVvMiyRkt",
        "outputId": "83b600a9-376d-41f6-a058-2f93c3d414c4"
      },
      "execution_count": 12,
      "outputs": [
        {
          "output_type": "execute_result",
          "data": {
            "text/plain": [
              "[[1, 2, 3], [4, 5, 6], [7, 8, 9], [21, 34, 40], [71, 17, 77], [73, 81, 28]]"
            ]
          },
          "metadata": {},
          "execution_count": 12
        }
      ]
    },
    {
      "cell_type": "code",
      "source": [
        "# Se le suma A a A como en el apartado anterior\n",
        "2*A"
      ],
      "metadata": {
        "colab": {
          "base_uri": "https://localhost:8080/"
        },
        "id": "Ity9q-ZEzXAe",
        "outputId": "11ed6f5d-b2e8-4c6f-90c8-a601985ae71e"
      },
      "execution_count": 5,
      "outputs": [
        {
          "output_type": "execute_result",
          "data": {
            "text/plain": [
              "[[1, 2, 3], [4, 5, 6], [7, 8, 9], [1, 2, 3], [4, 5, 6], [7, 8, 9]]"
            ]
          },
          "metadata": {},
          "execution_count": 5
        }
      ]
    },
    {
      "cell_type": "code",
      "source": [
        "# Para ingresar a un elemento utilizas su etiqueta, 0, 1, 2... y luego la etiqueta del valor de la lista de adentro, ej:\n",
        "A[0][0] # Manera correcta.\n",
        "# \"A[0,0]\" Esto es un error, así no se puede ingresar a los elementos."
      ],
      "metadata": {
        "colab": {
          "base_uri": "https://localhost:8080/"
        },
        "id": "5yFD6uz_z0wh",
        "outputId": "006dd15d-e1ff-46a4-b5d1-22690cb955a8"
      },
      "execution_count": 9,
      "outputs": [
        {
          "output_type": "execute_result",
          "data": {
            "text/plain": [
              "1"
            ]
          },
          "metadata": {},
          "execution_count": 9
        }
      ]
    },
    {
      "cell_type": "markdown",
      "source": [
        "## Vectores y listas\n",
        "\n",
        "Para poder sumar matrices es necesario que sean del mismo tamaño.\n",
        "\n"
      ],
      "metadata": {
        "id": "blZe1QaW09Bj"
      }
    },
    {
      "cell_type": "code",
      "source": [
        "L = A[0]\n",
        "M = B[0]"
      ],
      "metadata": {
        "id": "Bthjk_VZ2TZu"
      },
      "execution_count": 13,
      "outputs": []
    },
    {
      "cell_type": "code",
      "source": [
        "a = L[0]\n",
        "b = M[0]\n",
        "a + b"
      ],
      "metadata": {
        "colab": {
          "base_uri": "https://localhost:8080/"
        },
        "id": "7TuX2gnw2XJj",
        "outputId": "2b377c2f-cc21-4f23-99c0-fc3599a55347"
      },
      "execution_count": 14,
      "outputs": [
        {
          "output_type": "execute_result",
          "data": {
            "text/plain": [
              "22"
            ]
          },
          "metadata": {},
          "execution_count": 14
        }
      ]
    },
    {
      "cell_type": "code",
      "source": [
        "a == 1"
      ],
      "metadata": {
        "colab": {
          "base_uri": "https://localhost:8080/"
        },
        "id": "w4_UeQ4p2oZe",
        "outputId": "8fffdcd9-3738-4e56-af9e-f7c2c7f46b0a"
      },
      "execution_count": 15,
      "outputs": [
        {
          "output_type": "execute_result",
          "data": {
            "text/plain": [
              "True"
            ]
          },
          "metadata": {},
          "execution_count": 15
        }
      ]
    },
    {
      "cell_type": "markdown",
      "source": [
        "### Suma de \"vectores\""
      ],
      "metadata": {
        "id": "5n1KyI-239x1"
      }
    },
    {
      "cell_type": "code",
      "source": [
        "len(L)==len(M) # Comparar la longitud de ambas listas para ver que sean iguales, si no no se puede sumar,."
      ],
      "metadata": {
        "id": "lM-CXoAq4MQ3"
      },
      "execution_count": null,
      "outputs": []
    },
    {
      "cell_type": "code",
      "source": [
        "suma = [L[0]+M[0], L[1]+M[1], L[2]+M[2]] # Sumar peras con peras y manzanas con manzanas, es decir en las respectivas posiciones de la matriz.\n",
        "suma"
      ],
      "metadata": {
        "colab": {
          "base_uri": "https://localhost:8080/"
        },
        "id": "eB-A48Ks4dhu",
        "outputId": "8ec31d10-1029-4dad-9c55-3959c2d69a35"
      },
      "execution_count": 17,
      "outputs": [
        {
          "output_type": "execute_result",
          "data": {
            "text/plain": [
              "[22, 36, 43]"
            ]
          },
          "metadata": {},
          "execution_count": 17
        }
      ]
    },
    {
      "cell_type": "code",
      "source": [
        "suma=[L[i]+M[i] for i in range(3)]\n",
        "suma"
      ],
      "metadata": {
        "colab": {
          "base_uri": "https://localhost:8080/"
        },
        "id": "0QvnrpMz5Oe1",
        "outputId": "cd003ce8-6bc1-4969-fbd9-d3f6f175252a"
      },
      "execution_count": 18,
      "outputs": [
        {
          "output_type": "execute_result",
          "data": {
            "text/plain": [
              "[22, 36, 43]"
            ]
          },
          "metadata": {},
          "execution_count": 18
        }
      ]
    },
    {
      "cell_type": "markdown",
      "source": [
        "### Creación de funciones globales\n",
        "La función para crear funciones es `def` que se cierra con un debug (`print` o `return`)"
      ],
      "metadata": {
        "id": "8dIB-2G_Eaiv"
      }
    },
    {
      "cell_type": "code",
      "source": [
        "def Hola():\n",
        "  print(\"Hola, me llamo Álvaro\")"
      ],
      "metadata": {
        "id": "q6TI04muE6ZR"
      },
      "execution_count": 20,
      "outputs": []
    },
    {
      "cell_type": "code",
      "source": [
        "Hola()"
      ],
      "metadata": {
        "colab": {
          "base_uri": "https://localhost:8080/"
        },
        "id": "1drbMfToFrlQ",
        "outputId": "c1ebb4eb-9669-476d-a2af-48b1c54607e2"
      },
      "execution_count": 21,
      "outputs": [
        {
          "output_type": "stream",
          "name": "stdout",
          "text": [
            "Hola, me llamo Álvaro\n"
          ]
        }
      ]
    },
    {
      "cell_type": "code",
      "source": [
        "def Saludar(s,n):\n",
        "  print(f\"Hola me llamo {s} y tengo {n} años\")"
      ],
      "metadata": {
        "id": "4IDJQ4RWGa9q"
      },
      "execution_count": 24,
      "outputs": []
    },
    {
      "cell_type": "code",
      "source": [
        "Saludar(\"Álvaro\", 18)"
      ],
      "metadata": {
        "colab": {
          "base_uri": "https://localhost:8080/"
        },
        "id": "1lJvjhwEGluk",
        "outputId": "a54b2f0a-de03-4140-d941-1946d5e1179f"
      },
      "execution_count": 25,
      "outputs": [
        {
          "output_type": "stream",
          "name": "stdout",
          "text": [
            "Hola me llamo Álvaro y tengo 18 años\n"
          ]
        }
      ]
    },
    {
      "cell_type": "code",
      "source": [
        "def par():\n",
        "  for x in range(10):\n",
        "    if x%2==0:\n",
        "      print(f\"{x} es par\")\n",
        "    else:\n",
        "        print(f\"{x} es impar\")"
      ],
      "metadata": {
        "id": "dbkiU6wLIlvT"
      },
      "execution_count": 38,
      "outputs": []
    },
    {
      "cell_type": "code",
      "source": [
        "par()"
      ],
      "metadata": {
        "colab": {
          "base_uri": "https://localhost:8080/"
        },
        "id": "Ry9hRSSgKEis",
        "outputId": "af7e033e-56ec-4bf2-8e7c-f9d67c7f0908"
      },
      "execution_count": 39,
      "outputs": [
        {
          "output_type": "stream",
          "name": "stdout",
          "text": [
            "0 es par\n",
            "1 es impar\n",
            "2 es par\n",
            "3 es impar\n",
            "4 es par\n",
            "5 es impar\n",
            "6 es par\n",
            "7 es impar\n",
            "8 es par\n",
            "9 es impar\n"
          ]
        }
      ]
    },
    {
      "cell_type": "code",
      "source": [
        "# Dentro de la definición se puede introducir variables.\n",
        "def suma_vectorial(L,M):\n",
        "  x = [L[i]+M[i] for i in range(len(L))]\n",
        "  return x"
      ],
      "metadata": {
        "id": "xh32sAUpLWs0"
      },
      "execution_count": 40,
      "outputs": []
    },
    {
      "cell_type": "code",
      "source": [
        "L = [1, 2, 3]\n",
        "M = [21, 34, 40]\n",
        "\n",
        "suma_vectorial(L,M)"
      ],
      "metadata": {
        "colab": {
          "base_uri": "https://localhost:8080/"
        },
        "id": "TU-otCsSMLxV",
        "outputId": "15bf8bb3-5863-4b85-b060-4e59ce602ebe"
      },
      "execution_count": 41,
      "outputs": [
        {
          "output_type": "execute_result",
          "data": {
            "text/plain": [
              "[22, 36, 43]"
            ]
          },
          "metadata": {},
          "execution_count": 41
        }
      ]
    },
    {
      "cell_type": "markdown",
      "source": [
        "### Módulos o librerías\n",
        "Módulo: En muchos lenguajes de programación, un módulo es un archivo que contiene código que se puede importar y usar en otro programa. Puede contener clases, funciones, variables, etc. Los módulos ayudan a organizar el código en partes más pequeñas y manejables."
      ],
      "metadata": {
        "id": "ORxgET-nNLKU"
      }
    },
    {
      "cell_type": "code",
      "source": [
        "import math\n",
        "from math import sqrt, pi"
      ],
      "metadata": {
        "id": "k3tVq3OhN0Go"
      },
      "execution_count": 44,
      "outputs": []
    },
    {
      "cell_type": "code",
      "source": [
        "sqrt(68)"
      ],
      "metadata": {
        "colab": {
          "base_uri": "https://localhost:8080/"
        },
        "id": "shbo3qnQOXbD",
        "outputId": "1b97e81e-a4dc-4b09-f208-be831e9c5e60"
      },
      "execution_count": 45,
      "outputs": [
        {
          "output_type": "execute_result",
          "data": {
            "text/plain": [
              "8.246211251235321"
            ]
          },
          "metadata": {},
          "execution_count": 45
        }
      ]
    },
    {
      "cell_type": "code",
      "source": [
        "pi"
      ],
      "metadata": {
        "colab": {
          "base_uri": "https://localhost:8080/"
        },
        "id": "zRualjwgOqgg",
        "outputId": "3efc923c-0c1a-4ee0-b501-e9894328d0d6"
      },
      "execution_count": 47,
      "outputs": [
        {
          "output_type": "execute_result",
          "data": {
            "text/plain": [
              "3.141592653589793"
            ]
          },
          "metadata": {},
          "execution_count": 47
        }
      ]
    },
    {
      "cell_type": "markdown",
      "source": [
        "# El módulo NumPy\n",
        "La función `array`, convertir listas en un vector."
      ],
      "metadata": {
        "id": "bvl-6937OwOI"
      }
    },
    {
      "cell_type": "code",
      "source": [
        "import numpy as np\n",
        "\n",
        "L_vector = np.array(L)\n",
        "M_vector = np.array(M)\n",
        "\n",
        "L_vector + M_vector"
      ],
      "metadata": {
        "colab": {
          "base_uri": "https://localhost:8080/"
        },
        "id": "iTwUKtURO0P5",
        "outputId": "bff43824-417f-4473-e551-44f27e958c50"
      },
      "execution_count": 48,
      "outputs": [
        {
          "output_type": "execute_result",
          "data": {
            "text/plain": [
              "array([22, 36, 43])"
            ]
          },
          "metadata": {},
          "execution_count": 48
        }
      ]
    },
    {
      "cell_type": "code",
      "source": [
        "C = [9,2,2,2,3,3,2,17,2]\n",
        "A = [8,1,1,1,2,2,1,16,1]\n",
        "\n",
        "C_matriz = np.array(C).reshape(3,3)\n",
        "A_matriz = np.array(A).reshape(3,3)\n",
        "\n",
        "print(C_matriz)\n",
        "print(A_matriz)"
      ],
      "metadata": {
        "colab": {
          "base_uri": "https://localhost:8080/"
        },
        "id": "RKeAVtHuQWFh",
        "outputId": "4195e8c7-79b9-42a2-a1ff-aefa657546fe"
      },
      "execution_count": 51,
      "outputs": [
        {
          "output_type": "stream",
          "name": "stdout",
          "text": [
            "[[ 9  2  2]\n",
            " [ 2  3  3]\n",
            " [ 2 17  2]]\n",
            "[[ 8  1  1]\n",
            " [ 1  2  2]\n",
            " [ 1 16  1]]\n"
          ]
        }
      ]
    },
    {
      "cell_type": "code",
      "source": [
        "C_matriz @ A_matriz"
      ],
      "metadata": {
        "colab": {
          "base_uri": "https://localhost:8080/"
        },
        "id": "lNcnzEqQRGHx",
        "outputId": "6e16f065-fb33-4d8a-e16d-950bc0b65930"
      },
      "execution_count": 52,
      "outputs": [
        {
          "output_type": "execute_result",
          "data": {
            "text/plain": [
              "array([[76, 45, 15],\n",
              "       [22, 56, 11],\n",
              "       [35, 68, 38]])"
            ]
          },
          "metadata": {},
          "execution_count": 52
        }
      ]
    }
  ]
}