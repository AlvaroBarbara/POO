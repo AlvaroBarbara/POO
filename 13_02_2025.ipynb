{
  "nbformat": 4,
  "nbformat_minor": 0,
  "metadata": {
    "colab": {
      "provenance": []
    },
    "kernelspec": {
      "name": "python3",
      "display_name": "Python 3"
    },
    "language_info": {
      "name": "python"
    }
  },
  "cells": [
    {
      "cell_type": "markdown",
      "source": [
        "#Clases y Herencias\n",
        "Grupos de funciones. hasy un grupo madre y dentro puedes crear grupos hijos."
      ],
      "metadata": {
        "id": "6_6dp4zLK8rb"
      }
    },
    {
      "cell_type": "code",
      "source": [
        "class Alvaro():\n",
        "  pass"
      ],
      "metadata": {
        "id": "ywx64EmsLNNx"
      },
      "execution_count": null,
      "outputs": []
    },
    {
      "cell_type": "code",
      "source": [
        "Alvaro( )"
      ],
      "metadata": {
        "colab": {
          "base_uri": "https://localhost:8080/"
        },
        "id": "5jjWH1yULUAI",
        "outputId": "8b49b615-6a33-4b87-ab7c-892588bf5387"
      },
      "execution_count": null,
      "outputs": [
        {
          "output_type": "execute_result",
          "data": {
            "text/plain": [
              "<__main__.Alvaro at 0x799953519010>"
            ]
          },
          "metadata": {},
          "execution_count": 4
        }
      ]
    },
    {
      "cell_type": "code",
      "source": [
        "# Vamos a crear una clase que se llamará Alvaro\n",
        "class Alvaro:\n",
        "  def __init__(self, edad, bff, Ceci):\n",
        "    self.edad = edad\n",
        "    self.bff = bff\n",
        "    self.Ceci = Ceci\n",
        "\n",
        "  def saludar(self):\n",
        "    print(f\"A los {self.edad} conocí a mi amigo {self.bff}.\")\n",
        "\n",
        "  def chisme(self):\n",
        "    print(f\"Alvaro está en el chisme con {self.bff} y con {self.Ceci}.\")\n"
      ],
      "metadata": {
        "id": "kTJxVxghLfgW"
      },
      "execution_count": 36,
      "outputs": []
    },
    {
      "cell_type": "code",
      "source": [
        "avo = Alvaro(19, \"Jaume\", \"Ceci\")"
      ],
      "metadata": {
        "id": "GHKw8Q6wQxAi"
      },
      "execution_count": 37,
      "outputs": []
    },
    {
      "cell_type": "code",
      "source": [
        "# Puedes acceder de una\n",
        "avo.edad, avo.bff, avo.Ceci"
      ],
      "metadata": {
        "colab": {
          "base_uri": "https://localhost:8080/"
        },
        "id": "JginqZGKRoa8",
        "outputId": "a5c9dbef-7dbb-42f6-f065-e2a30670f82a"
      },
      "execution_count": 38,
      "outputs": [
        {
          "output_type": "execute_result",
          "data": {
            "text/plain": [
              "(19, 'Jaume', 'Ceci')"
            ]
          },
          "metadata": {},
          "execution_count": 38
        }
      ]
    },
    {
      "cell_type": "code",
      "source": [
        "avo.saludar()"
      ],
      "metadata": {
        "colab": {
          "base_uri": "https://localhost:8080/"
        },
        "id": "BpGme1qiSRtn",
        "outputId": "000a17c5-95ce-4717-83c6-d14253d53036"
      },
      "execution_count": 39,
      "outputs": [
        {
          "output_type": "stream",
          "name": "stdout",
          "text": [
            "A los 19 conocí a mi amigo Jaume.\n"
          ]
        }
      ]
    },
    {
      "cell_type": "code",
      "source": [
        "avo.chisme()"
      ],
      "metadata": {
        "colab": {
          "base_uri": "https://localhost:8080/"
        },
        "id": "hXFntjdAUt8M",
        "outputId": "3e3c7e35-f060-41b7-c223-633d9d484e28"
      },
      "execution_count": 40,
      "outputs": [
        {
          "output_type": "stream",
          "name": "stdout",
          "text": [
            "Alvaro está en el chisme con Jaume y con Ceci.\n"
          ]
        }
      ]
    }
  ]
}