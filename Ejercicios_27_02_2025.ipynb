{
  "nbformat": 4,
  "nbformat_minor": 0,
  "metadata": {
    "colab": {
      "provenance": []
    },
    "kernelspec": {
      "name": "python3",
      "display_name": "Python 3"
    },
    "language_info": {
      "name": "python"
    }
  },
  "cells": [
    {
      "cell_type": "markdown",
      "source": [
        "# Ejercicio 1\n",
        "Imprime \"Hola, Mundo!\" en la consola."
      ],
      "metadata": {
        "id": "GPdDsQQs4vXg"
      }
    },
    {
      "cell_type": "code",
      "source": [
        "print(\"Hola, Mundo!\")"
      ],
      "metadata": {
        "colab": {
          "base_uri": "https://localhost:8080/"
        },
        "id": "8ujae7iE5MzR",
        "outputId": "a6e3ceec-e475-4992-9a34-0354dd0ccaa7"
      },
      "execution_count": 1,
      "outputs": [
        {
          "output_type": "stream",
          "name": "stdout",
          "text": [
            "Hola, Mundo!\n"
          ]
        }
      ]
    },
    {
      "cell_type": "markdown",
      "source": [
        "# Ejerecicio 2\n",
        "Declara una variable llamada nombre e imprime su valor."
      ],
      "metadata": {
        "id": "R1hOtvk05cJD"
      }
    },
    {
      "cell_type": "code",
      "source": [
        "nombre = str(\"Álvaro\")\n",
        "nombre"
      ],
      "metadata": {
        "colab": {
          "base_uri": "https://localhost:8080/",
          "height": 36
        },
        "id": "fRQP4p4g5kvC",
        "outputId": "12213302-f808-42b5-f360-4676b71ee0e4"
      },
      "execution_count": 2,
      "outputs": [
        {
          "output_type": "execute_result",
          "data": {
            "text/plain": [
              "'Álvaro'"
            ],
            "application/vnd.google.colaboratory.intrinsic+json": {
              "type": "string"
            }
          },
          "metadata": {},
          "execution_count": 2
        }
      ]
    },
    {
      "cell_type": "markdown",
      "source": [
        "# Ejercicio 3\n",
        "Pide al usuario que ingrese un número e imprime su doble."
      ],
      "metadata": {
        "id": "4S0QRqU75-UF"
      }
    },
    {
      "cell_type": "code",
      "source": [
        "print (\"Ingrese un número\")\n",
        "numero = int(input())\n",
        "print(f\"El doble del número es {numero*2}\")\n"
      ],
      "metadata": {
        "colab": {
          "base_uri": "https://localhost:8080/"
        },
        "id": "z9Mq9a7G6G9p",
        "outputId": "45e88548-6ac9-4384-b9ac-a3cbc3318e02"
      },
      "execution_count": 3,
      "outputs": [
        {
          "output_type": "stream",
          "name": "stdout",
          "text": [
            "Ingrese un número\n",
            "8\n",
            "El doble del número es 16\n"
          ]
        }
      ]
    },
    {
      "cell_type": "markdown",
      "source": [
        "# Ejercicio 4\n",
        "Escribe un programa que sume dos números ingresados por el usuario."
      ],
      "metadata": {
        "id": "f46nScqh6v-Z"
      }
    },
    {
      "cell_type": "code",
      "source": [
        "numero1 = int(input(\"Ingrese el primer número:\"))\n",
        "numero2 = int(input(\"Ingrese el segundo número: \"))\n",
        "print(f\"La suma de ambos numeros es {numero1 + numero2}\")"
      ],
      "metadata": {
        "colab": {
          "base_uri": "https://localhost:8080/"
        },
        "id": "XufVX6176vmf",
        "outputId": "90f2832b-f5ae-4c6b-db78-db7a740759b6"
      },
      "execution_count": 4,
      "outputs": [
        {
          "output_type": "stream",
          "name": "stdout",
          "text": [
            "Ingrese el primer número:7\n",
            "Ingrese el segundo número: 8\n",
            "La suma de ambos numeros es 15\n"
          ]
        }
      ]
    },
    {
      "cell_type": "markdown",
      "source": [
        "#Ejercicio 5\n",
        "Crea una lista con cinco números y muestra el primer y último elemento."
      ],
      "metadata": {
        "id": "5UTJX05E7egB"
      }
    },
    {
      "cell_type": "code",
      "source": [
        "lista = [1, 6, 7, 2, 9]\n",
        "print(f\"El primer número de la lista es {lista[0]} y el último es {lista[4]}\")"
      ],
      "metadata": {
        "colab": {
          "base_uri": "https://localhost:8080/"
        },
        "id": "I9nzVgY77zlu",
        "outputId": "e614340b-fdfb-4c8c-a221-c37b9726d8e0"
      },
      "execution_count": 5,
      "outputs": [
        {
          "output_type": "stream",
          "name": "stdout",
          "text": [
            "El primer número de la lista es 1 y el último es 9\n"
          ]
        }
      ]
    },
    {
      "cell_type": "markdown",
      "source": [
        "# Ejercicio 6\n",
        "Escribe un programa que verifique si un número es par o impar."
      ],
      "metadata": {
        "id": "KWg9NdPs9bEB"
      }
    },
    {
      "cell_type": "code",
      "source": [
        "x = int(input(\"Ingrese un número para verificar si es par o impar: \"))\n",
        "if x % 2 == 0:\n",
        "    print(\"El número es par.\")\n",
        "else:\n",
        "    print(\"El número es impar.\")"
      ],
      "metadata": {
        "colab": {
          "base_uri": "https://localhost:8080/"
        },
        "id": "te1zUxbt9wwM",
        "outputId": "8137ee35-2228-4ee6-cb74-801fb45e6166"
      },
      "execution_count": 6,
      "outputs": [
        {
          "output_type": "stream",
          "name": "stdout",
          "text": [
            "Ingrese un número para verificar si es par o impar: 8\n",
            "El número es par.\n"
          ]
        }
      ]
    },
    {
      "cell_type": "markdown",
      "source": [
        "# Ejercico 7\n",
        "Escribe un bucle que imprima los números del 1 al 10."
      ],
      "metadata": {
        "id": "PhiLKV0V-cor"
      }
    },
    {
      "cell_type": "code",
      "source": [
        "for i in range(1, 11):\n",
        "    print(i)"
      ],
      "metadata": {
        "colab": {
          "base_uri": "https://localhost:8080/"
        },
        "id": "D5g2S0R5-3EO",
        "outputId": "f6b2f0cb-d877-40f2-e585-7045fa2e4d35"
      },
      "execution_count": 7,
      "outputs": [
        {
          "output_type": "stream",
          "name": "stdout",
          "text": [
            "1\n",
            "2\n",
            "3\n",
            "4\n",
            "5\n",
            "6\n",
            "7\n",
            "8\n",
            "9\n",
            "10\n"
          ]
        }
      ]
    },
    {
      "cell_type": "markdown",
      "source": [
        "# Ejercicio 8\n",
        "Calcula la suma de los primeros 100 números naturales."
      ],
      "metadata": {
        "id": "ZiN737sf--10"
      }
    },
    {
      "cell_type": "code",
      "source": [
        "for i in range(1, 101):\n",
        "    suma = i + suma\n",
        "print(f\"La suma de los primeros 100 números naturales es {suma}\")"
      ],
      "metadata": {
        "colab": {
          "base_uri": "https://localhost:8080/"
        },
        "id": "PyXN2jVB_HRu",
        "outputId": "421b5e2b-b03a-473b-da07-44a8915fdceb"
      },
      "execution_count": 19,
      "outputs": [
        {
          "output_type": "stream",
          "name": "stdout",
          "text": [
            "La suma de los primeros 100 números naturales es 5151\n"
          ]
        }
      ]
    },
    {
      "cell_type": "markdown",
      "source": [
        "# Ejercicio 9\n",
        "Crea una función que reciba un número y devuelva su cuadrado."
      ],
      "metadata": {
        "id": "JNFPX31c_9hE"
      }
    },
    {
      "cell_type": "code",
      "source": [
        "def potencia(x):\n",
        "    return x**2\n",
        "Y = int(input(\"Ingrese un número para conocer su potencia: \"))\n",
        "print(f\"La potencia de {Y} es: {potencia(Y)}\")\n"
      ],
      "metadata": {
        "colab": {
          "base_uri": "https://localhost:8080/"
        },
        "id": "5ZCR9oJuAGxi",
        "outputId": "64619e28-7632-46fe-84ef-457ee25a2f2c"
      },
      "execution_count": 20,
      "outputs": [
        {
          "output_type": "stream",
          "name": "stdout",
          "text": [
            "Ingrese un número para conocer su potencia: 2\n",
            "La potencia de 2 es: 4\n"
          ]
        }
      ]
    },
    {
      "cell_type": "markdown",
      "source": [
        "# Ejercicio 10\n",
        "Escribe un programa que cuente cúantas vocales tiene una cadena de texto."
      ],
      "metadata": {
        "id": "lDsb-8QUG3X3"
      }
    },
    {
      "cell_type": "code",
      "source": [
        "vocales = \"aeiouAEIOU\"\n",
        "\n",
        "text = input(\"Introduce un texto: \")\n",
        "\n",
        "cont = 0\n",
        "\n",
        "for char in text:\n",
        "    if char in vocales:\n",
        "        cont += 1\n",
        "\n",
        "print(f\"El número de vocales es {cont}\")"
      ],
      "metadata": {
        "colab": {
          "base_uri": "https://localhost:8080/"
        },
        "id": "otiNWoX4HS-0",
        "outputId": "00f035aa-812e-4d92-e785-24aa03d39516"
      },
      "execution_count": 21,
      "outputs": [
        {
          "output_type": "stream",
          "name": "stdout",
          "text": [
            "Introduce un texto: Popo\n",
            "El número de vocales es 2\n"
          ]
        }
      ]
    },
    {
      "cell_type": "markdown",
      "source": [
        "# Ejercicio 11\n",
        "Crea una lista de números del 1 al 10 y muestra solo los pares."
      ],
      "metadata": {
        "id": "x7wFzIn2Bry4"
      }
    },
    {
      "cell_type": "code",
      "source": [
        "lista = [1, 2, 3, 4, 5, 6, 7, 8, 9, 10]\n",
        "for i in lista:\n",
        "    if i % 2 == 0:\n",
        "      print(i)"
      ],
      "metadata": {
        "colab": {
          "base_uri": "https://localhost:8080/"
        },
        "id": "s04PpeYHBftX",
        "outputId": "496c5289-7e66-4b4f-f3e5-9a9e78f7001d"
      },
      "execution_count": 22,
      "outputs": [
        {
          "output_type": "stream",
          "name": "stdout",
          "text": [
            "2\n",
            "4\n",
            "6\n",
            "8\n",
            "10\n"
          ]
        }
      ]
    },
    {
      "cell_type": "markdown",
      "source": [
        "# Ejercicio 12\n",
        "Crea un diccionario que relacione nombres de personas con su edad y muestra la edad de una persona\n",
        "específica."
      ],
      "metadata": {
        "id": "0QiXGaNHClAs"
      }
    },
    {
      "cell_type": "code",
      "source": [
        "edades = {\"Álvaro\": 18, \"Marina\": 21, \"Fabrizio\" : 18, \"Pepe\" : 28}\n",
        "print(f\"{edades.keys()}\")\n",
        "print(f\"{edades.values()}\")\n",
        "print(f\"{edades.items()}\")\n"
      ],
      "metadata": {
        "colab": {
          "base_uri": "https://localhost:8080/"
        },
        "id": "20UUejOVC9k_",
        "outputId": "ac43278b-4e77-4ebd-c7b1-56f6cb5a30c1"
      },
      "execution_count": 23,
      "outputs": [
        {
          "output_type": "stream",
          "name": "stdout",
          "text": [
            "dict_keys(['Álvaro', 'Marina', 'Fabrizio', 'Pepe'])\n",
            "dict_values([18, 21, 18, 28])\n",
            "dict_items([('Álvaro', 18), ('Marina', 21), ('Fabrizio', 18), ('Pepe', 28)])\n"
          ]
        }
      ]
    },
    {
      "cell_type": "markdown",
      "source": [
        "# Ejercicio 13\n",
        "Escribe un programa que encuentre el número más grande en una lista."
      ],
      "metadata": {
        "id": "4-Q-5K3LGU8j"
      }
    },
    {
      "cell_type": "code",
      "source": [
        "lista = [1, 2, 3, 4, 5, 6, 7, 8, 9, 10]\n",
        "grande = max(lista)\n",
        "print(f\"El número más grande de la lista es {grande}\")"
      ],
      "metadata": {
        "colab": {
          "base_uri": "https://localhost:8080/"
        },
        "id": "Kd3tmRFSHwU0",
        "outputId": "1c45a660-a267-4191-e716-3dfa3a63e0ec"
      },
      "execution_count": 24,
      "outputs": [
        {
          "output_type": "stream",
          "name": "stdout",
          "text": [
            "El número más grande de la lista es 10\n"
          ]
        }
      ]
    },
    {
      "cell_type": "markdown",
      "source": [
        "# Ejercicio 14\n",
        "Escribe una función que tome una lista de números y devuelva su promedio."
      ],
      "metadata": {
        "id": "tZVwBOqCQTrz"
      }
    },
    {
      "cell_type": "code",
      "source": [
        "lista = [2, 5, 3, 7, 5, 8]\n",
        "def promedio(lista):\n",
        "    return sum(lista)/len(lista)\n",
        "print(f\"El promedio de la lista es {promedio(lista)}\")"
      ],
      "metadata": {
        "colab": {
          "base_uri": "https://localhost:8080/"
        },
        "id": "zpUjNmSLTw7t",
        "outputId": "871aa3e1-64bb-48e9-d217-c393c4aace0a"
      },
      "execution_count": 25,
      "outputs": [
        {
          "output_type": "stream",
          "name": "stdout",
          "text": [
            "El promedio de la lista es 5.0\n"
          ]
        }
      ]
    },
    {
      "cell_type": "markdown",
      "source": [
        "# Ejercicio 15\n",
        "Escribe un programa que verifique si una palabra es un palíndromo.\n"
      ],
      "metadata": {
        "id": "T4lhNuljT_Ip"
      }
    },
    {
      "cell_type": "code",
      "source": [
        "print(\"Ingrese una palabra\")\n",
        "palabra = input()\n",
        "if palabra == palabra[::-1]:\n",
        "  print(\"Es un palíndromo\")\n",
        "else:\n",
        "  print(\"No es un palíndromo\")"
      ],
      "metadata": {
        "colab": {
          "base_uri": "https://localhost:8080/"
        },
        "id": "punWJx9pUIk9",
        "outputId": "0cbce506-3082-4e57-c16c-23d20d0b058a"
      },
      "execution_count": 28,
      "outputs": [
        {
          "output_type": "stream",
          "name": "stdout",
          "text": [
            "Ingrese una palabra\n",
            "anitalavalatina\n",
            "Es un palíndromo\n"
          ]
        }
      ]
    },
    {
      "cell_type": "markdown",
      "source": [
        "# Ejercicio 16\n",
        "Crea una función que tome dos números y devuelva el mayor."
      ],
      "metadata": {
        "id": "xQ852YhDUJFY"
      }
    },
    {
      "cell_type": "code",
      "source": [
        "def Max(x,z):\n",
        "  if x>z:\n",
        "    print(f\"El número mayor es {x}\")\n",
        "  else:\n",
        "    print(f\"El número mayor es {z}\")\n",
        "\n",
        "x =int(input(\"Ingrese un número: \"))\n",
        "z = int(input(\"Ingrese otro número: \"))\n",
        "print(f\"El número mayor es: {max(x,z)}\")"
      ],
      "metadata": {
        "colab": {
          "base_uri": "https://localhost:8080/"
        },
        "id": "owdMphZnURy7",
        "outputId": "d72a05ac-9c28-4d10-9192-6b810d33a837"
      },
      "execution_count": 26,
      "outputs": [
        {
          "output_type": "stream",
          "name": "stdout",
          "text": [
            "Ingrese un número: 8\n",
            "Ingrese otro número: 1\n",
            "El número mayor es: 8\n"
          ]
        }
      ]
    },
    {
      "cell_type": "markdown",
      "source": [
        "# Ejercicio 17\n",
        "Escribe un programa que genere la tabla de multiplicar de un número ingresado por el usuario."
      ],
      "metadata": {
        "id": "L2eoej4RXnjD"
      }
    },
    {
      "cell_type": "code",
      "source": [
        "x = int(input(\"Ingrese un número para conocer su tabla de multiplicar: \"))\n",
        "for i in range(1, 11):\n",
        "    print(f\"{x} x {i} = {x*i}\")"
      ],
      "metadata": {
        "colab": {
          "base_uri": "https://localhost:8080/"
        },
        "id": "YU6J4JfdXyUP",
        "outputId": "54d279f5-ebab-4833-a96b-96a69c31eff7"
      },
      "execution_count": 27,
      "outputs": [
        {
          "output_type": "stream",
          "name": "stdout",
          "text": [
            "Ingrese un número para conocer su tabla de multiplicar: 2\n",
            "2 x 1 = 2\n",
            "2 x 2 = 4\n",
            "2 x 3 = 6\n",
            "2 x 4 = 8\n",
            "2 x 5 = 10\n",
            "2 x 6 = 12\n",
            "2 x 7 = 14\n",
            "2 x 8 = 16\n",
            "2 x 9 = 18\n",
            "2 x 10 = 20\n"
          ]
        }
      ]
    }
  ]
}