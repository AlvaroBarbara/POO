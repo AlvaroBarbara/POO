{
  "nbformat": 4,
  "nbformat_minor": 0,
  "metadata": {
    "colab": {
      "provenance": []
    },
    "kernelspec": {
      "name": "python3",
      "display_name": "Python 3"
    },
    "language_info": {
      "name": "python"
    }
  },
  "cells": [
    {
      "cell_type": "code",
      "execution_count": null,
      "metadata": {
        "id": "YBQZCPAWpVwH"
      },
      "outputs": [],
      "source": []
    },
    {
      "cell_type": "code",
      "source": [],
      "metadata": {
        "id": "tumplLsVs7FK"
      },
      "execution_count": null,
      "outputs": []
    },
    {
      "cell_type": "markdown",
      "source": [
        "#Introducción a Python\n",
        "Python es un lenguaje de programación orientada a objetos. Es una herramienta útil en el ambito laboral e industrial.\n",
        "##¿Qué veremos hoy?\n",
        "\n",
        "\n",
        "1.   Objetos\n",
        "2.   Variables\n",
        "3.   Ejemplos\n",
        "\n",
        "\n"
      ],
      "metadata": {
        "id": "Z02IGKYYqQdU"
      }
    },
    {
      "cell_type": "markdown",
      "source": [
        "Nota: En este procesador de texto se puede escribir en html y en latex. Por ejemplo, vamos a escribir la ecuación más hermosa:\n",
        "\n",
        "$$e^{iΠ}+1=0$$\n",
        "\n",
        "Matriz:\n",
        "\n",
        "\\begin{bmatrix}\n",
        "a_{11} & a_{12} & a_{13} \\\\\n",
        "a_{21} & a_{22} & a_{23} \\\\\n",
        "a_{31} & a_{32} & a_{33}\n",
        "\\end{bmatrix}\n"
      ],
      "metadata": {
        "id": "m06QFuDKuAYg"
      }
    },
    {
      "cell_type": "markdown",
      "source": [
        "### Algunos objetos en Python\n",
        "\n",
        "1.   Los enteros: int, y los flotantes (decimales): float.\n",
        "2.   String: str, siempre se escriben en comilllas.\n",
        "3. Conjuntos y listas.\n",
        "---\n",
        "\n",
        "**La función `print` y la función `type`**\n",
        "\n"
      ],
      "metadata": {
        "id": "_4QXm5wX6lTJ"
      }
    },
    {
      "cell_type": "code",
      "source": [
        "#Imprimiremos Hello World\n",
        "print (\"Hello world\")\n",
        "#Aunque también se puede hacer de la siguiente manera:\n",
        "\"Hello World\""
      ],
      "metadata": {
        "colab": {
          "base_uri": "https://localhost:8080/",
          "height": 53
        },
        "id": "RmDb6XeF9ivc",
        "outputId": "a6f6e39d-f21a-4a0a-cfba-f9f22335f35a"
      },
      "execution_count": null,
      "outputs": [
        {
          "output_type": "stream",
          "name": "stdout",
          "text": [
            "Hello world\n"
          ]
        },
        {
          "output_type": "execute_result",
          "data": {
            "text/plain": [
              "'Hello World'"
            ],
            "application/vnd.google.colaboratory.intrinsic+json": {
              "type": "string"
            }
          },
          "metadata": {},
          "execution_count": 3
        }
      ]
    },
    {
      "cell_type": "markdown",
      "source": [
        "#### Operaciones básicas en int o float\n",
        "\n",
        "\n",
        "*   $+, \\ -$  | Suma y Resta |\n",
        "*   $*, /, **$ | Multiplicación, división y potenciación |\n",
        "* $\\%$ | Operación modular, tomar el residuo de una división |\n",
        "* $//$ | División al piso |\n",
        "\n"
      ],
      "metadata": {
        "id": "IKAz6DseAjTU"
      }
    },
    {
      "cell_type": "markdown",
      "source": [
        "**Creación de variables**\n",
        "\n",
        "Nombre = Objeto"
      ],
      "metadata": {
        "id": "cbaz77UGFPHZ"
      }
    },
    {
      "cell_type": "code",
      "source": [
        "# Crearemos dos variables\n",
        "x = 7\n",
        "y = 3"
      ],
      "metadata": {
        "id": "eVRfuSAHF33f"
      },
      "execution_count": null,
      "outputs": []
    },
    {
      "cell_type": "code",
      "source": [
        "# Operaciones\n",
        "\n",
        "print(F\" La suma de {x} y {y} es {x+y}\")\n",
        "print(F\" La potenciación de {x} y {y} es {x**y}\")\n",
        "print(F\" El residuo entre {x} y {y} es {x%y}\")\n",
        "print(F\" La división al piso entre {x} y {y} es {x//y}\")"
      ],
      "metadata": {
        "colab": {
          "base_uri": "https://localhost:8080/"
        },
        "id": "awTaKsWsG5WP",
        "outputId": "8645110c-5217-4809-c06e-b1f1c1395979"
      },
      "execution_count": null,
      "outputs": [
        {
          "output_type": "stream",
          "name": "stdout",
          "text": [
            " La suma de 7 y 3 es 10\n",
            " La potenciación de 7 y 3 es 343\n",
            " El residuo entre 7 y 3 es 1\n",
            " La división al piso entre 7 y 3 es 2\n"
          ]
        }
      ]
    },
    {
      "cell_type": "code",
      "source": [
        "# Type dice que tipo de objeto es\n",
        "type(x/y), type(\"Hola\")"
      ],
      "metadata": {
        "colab": {
          "base_uri": "https://localhost:8080/"
        },
        "id": "tc-WZSlMI2Ew",
        "outputId": "78260242-c311-48c9-a43f-bc263ca2982c"
      },
      "execution_count": null,
      "outputs": [
        {
          "output_type": "execute_result",
          "data": {
            "text/plain": [
              "(float, str)"
            ]
          },
          "metadata": {},
          "execution_count": 8
        }
      ]
    }
  ]
}